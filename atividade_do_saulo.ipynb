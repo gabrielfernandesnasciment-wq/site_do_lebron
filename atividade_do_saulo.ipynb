{
  "nbformat": 4,
  "nbformat_minor": 0,
  "metadata": {
    "colab": {
      "provenance": [],
      "authorship_tag": "ABX9TyMfRP2AjBAa94csSKwPZkkq",
      "include_colab_link": true
    },
    "kernelspec": {
      "name": "python3",
      "display_name": "Python 3"
    },
    "language_info": {
      "name": "python"
    }
  },
  "cells": [
    {
      "cell_type": "markdown",
      "metadata": {
        "id": "view-in-github",
        "colab_type": "text"
      },
      "source": [
        "<a href=\"https://colab.research.google.com/github/gabrielfernandesnasciment-wq/site_do_lebron/blob/main/atividade_do_saulo.ipynb\" target=\"_parent\"><img src=\"https://colab.research.google.com/assets/colab-badge.svg\" alt=\"Open In Colab\"/></a>"
      ]
    },
    {
      "cell_type": "markdown",
      "source": [
        "1. Dada a tupla t = (1, 2, 3) , escreva um código para inserir o número 4 no final da tupla."
      ],
      "metadata": {
        "id": "q-3rl7uOoDQE"
      }
    },
    {
      "cell_type": "code",
      "source": [
        "t=(1,2,3)\n",
        "t=t+(4,)\n",
        "print(t)"
      ],
      "metadata": {
        "colab": {
          "base_uri": "https://localhost:8080/"
        },
        "id": "zyC0f51aofyk",
        "outputId": "62344bfb-0bde-4eac-d6fc-4b3f84ef18f9"
      },
      "execution_count": 3,
      "outputs": [
        {
          "output_type": "stream",
          "name": "stdout",
          "text": [
            "(1, 2, 3, 4)\n"
          ]
        }
      ]
    },
    {
      "cell_type": "markdown",
      "source": [
        "2. Dada a tupla t = (1, 2, 3) , escreva um código para inserir o número 0 no início da tupla."
      ],
      "metadata": {
        "id": "dmFtNGU_ozYC"
      }
    },
    {
      "cell_type": "code",
      "source": [
        "t=(1,2,3)\n",
        "t=(0,)+t\n",
        "print(t)"
      ],
      "metadata": {
        "colab": {
          "base_uri": "https://localhost:8080/"
        },
        "id": "Iob-8k7_o2ak",
        "outputId": "c1095929-2352-4758-ea14-a154afe0f1d5"
      },
      "execution_count": 4,
      "outputs": [
        {
          "output_type": "stream",
          "name": "stdout",
          "text": [
            "(0, 1, 2, 3)\n"
          ]
        }
      ]
    },
    {
      "cell_type": "markdown",
      "source": [
        "3. Dada a tupla t = (10, 20, 30, 40) , insira o valor 25 entre 20 e 30 ."
      ],
      "metadata": {
        "id": "dFhWAVg0pBKH"
      }
    },
    {
      "cell_type": "code",
      "source": [
        "t=(10,20,30,40)\n",
        "t=t[0:2] + (25,) + t[2:]\n",
        "print(t)\n"
      ],
      "metadata": {
        "colab": {
          "base_uri": "https://localhost:8080/"
        },
        "id": "rsXtdfq6pGcH",
        "outputId": "5fbac65e-035c-4e8f-b7a7-7114fa2d0ce2"
      },
      "execution_count": 8,
      "outputs": [
        {
          "output_type": "stream",
          "name": "stdout",
          "text": [
            "(10, 20, 25, 30, 40)\n"
          ]
        }
      ]
    },
    {
      "cell_type": "markdown",
      "source": [
        "5. Dada uma tupla de strings, crie um código que insira uma nova string fornecida pelo usuário após a\n",
        "terceira posição da tupla."
      ],
      "metadata": {
        "id": "XMMuc4l7qHYb"
      }
    },
    {
      "cell_type": "code",
      "source": [
        "t=('gato','rato','pato','ganso','batom')\n",
        "x=input('digite uma string: ')\n",
        "x=(x,)\n",
        "t=t[0:4]+x+t[4:]\n",
        "print(t)\n"
      ],
      "metadata": {
        "colab": {
          "base_uri": "https://localhost:8080/"
        },
        "id": "v2pCfh_xqNh1",
        "outputId": "698bafa3-d7d6-4a4f-fd13-ed60a8531c11"
      },
      "execution_count": 12,
      "outputs": [
        {
          "output_type": "stream",
          "name": "stdout",
          "text": [
            "digite uma string: casa\n",
            "('gato', 'rato', 'pato', 'ganso', 'casa', 'batom')\n"
          ]
        }
      ]
    },
    {
      "cell_type": "markdown",
      "source": [
        "6. Escreva um programa que permita criar uma tupla inicialmente vazia e adicionar elementos um a\n",
        "um informados pelo usuário até que ele digite \"sair\"."
      ],
      "metadata": {
        "id": "wGUFrdGgrpQ9"
      }
    },
    {
      "cell_type": "code",
      "source": [
        "t=tuple()\n",
        "while True:\n",
        "  x=input('Digite algo para ser colocado na tupla(digite sair para fechar): ')\n",
        "  x= x.lower()\n",
        "  if x=='sair':\n",
        "    break\n",
        "  else:\n",
        "    t=t+(x,)\n",
        "print(t)\n",
        "\n"
      ],
      "metadata": {
        "colab": {
          "base_uri": "https://localhost:8080/"
        },
        "id": "uBdjvLGkr60S",
        "outputId": "39d8b2c8-ae5b-4027-9922-1f61d0f7f08c"
      },
      "execution_count": 13,
      "outputs": [
        {
          "output_type": "stream",
          "name": "stdout",
          "text": [
            "Digite algo para ser colocado na tupla(digite sair para fechar): casa\n",
            "Digite algo para ser colocado na tupla(digite sair para fechar): rato\n",
            "Digite algo para ser colocado na tupla(digite sair para fechar): sair\n",
            "('casa', 'rato')\n"
          ]
        }
      ]
    },
    {
      "cell_type": "markdown",
      "source": [
        "7. Dada uma tupla t = (2, 4, 6, 8) , escreva um código que insira o número 5 de forma que a\n",
        "tupla fique em ordem crescente."
      ],
      "metadata": {
        "id": "Ib3DQup4tm6H"
      }
    },
    {
      "cell_type": "code",
      "source": [
        "t=(2,4,6,8)\n",
        "t= t[0:2] + (5,) + t[2:]\n",
        "print(t)"
      ],
      "metadata": {
        "colab": {
          "base_uri": "https://localhost:8080/"
        },
        "id": "vnezdRrdtosa",
        "outputId": "e5654d65-9dd3-4944-d3ca-b2109dfb9768"
      },
      "execution_count": 14,
      "outputs": [
        {
          "output_type": "stream",
          "name": "stdout",
          "text": [
            "(2, 4, 5, 6, 8)\n"
          ]
        }
      ]
    },
    {
      "cell_type": "markdown",
      "source": [
        "G. Dada a tupla t = (1, 2, 3, 4) , escreva um código que altere o valor da segunda posição (valor\n",
        "2 ) para 20 ."
      ],
      "metadata": {
        "id": "HTFd7t2quUui"
      }
    },
    {
      "cell_type": "code",
      "source": [
        "t=(1,2,3,4)\n",
        "t= t[0:1]+ (20,)+ t[2:]\n",
        "print(t)"
      ],
      "metadata": {
        "colab": {
          "base_uri": "https://localhost:8080/"
        },
        "id": "koItie9suapA",
        "outputId": "9a24dbf2-5e32-4738-9688-dfa54e7c9572"
      },
      "execution_count": 16,
      "outputs": [
        {
          "output_type": "stream",
          "name": "stdout",
          "text": [
            "(1, 20, 3, 4)\n"
          ]
        }
      ]
    },
    {
      "cell_type": "markdown",
      "source": [
        "9. Crie uma função alterar_elemento(tupla, posicao, novo_valor) que substitua o\n",
        "elemento da posição informada e retorne a nova tupla."
      ],
      "metadata": {
        "id": "oUAtvIhcu92G"
      }
    },
    {
      "cell_type": "code",
      "source": [
        "def alterar_elemento(tupla,posicao,novo_valor):\n",
        "  tupla=tupla[0:(posicao-1)]+(novo_valor,)+tupla[posicao:]\n",
        "  return tupla\n",
        "t=('gato','rato','pato','ganso','batom')\n",
        "print(t)\n",
        "x=int(input('Essa é a tupla, digite a posição que você quer alterar: '))\n",
        "n=input('digite agora a info que entrar no lugar: ')\n",
        "t=alterar_elemento(t,x,n)\n",
        "print(t)\n"
      ],
      "metadata": {
        "colab": {
          "base_uri": "https://localhost:8080/"
        },
        "id": "H4gdirNswBIK",
        "outputId": "6ded338c-fbc5-42be-a039-16751cd9b41b"
      },
      "execution_count": 19,
      "outputs": [
        {
          "output_type": "stream",
          "name": "stdout",
          "text": [
            "('gato', 'rato', 'pato', 'ganso', 'batom')\n",
            "Essa é a tupla, digite a posição que você quer alterar: 2\n",
            "digite agora a info que entrar no lugar: t\n",
            "('gato', 't', 'pato', 'ganso', 'batom')\n"
          ]
        }
      ]
    },
    {
      "cell_type": "markdown",
      "source": [
        "10. Dada uma tupla t = (10, 15, 20, 25, 30) , altere todos os elementos múltiplos de 10 para\n",
        "o valor 0 ."
      ],
      "metadata": {
        "id": "jBfFqe73ycO4"
      }
    },
    {
      "cell_type": "code",
      "source": [
        "t=(10,15,20,25,30)\n",
        "m=[]\n",
        "for i in t:\n",
        "  if i%10==0:\n",
        "    m.append(0)\n",
        "  else:\n",
        "    m.append(i)\n",
        "p=0\n",
        "for i in m:\n",
        "  if i==0:\n",
        "    t= t[0:p]+(i,)+t[(p+1):]\n",
        "  p+=1\n",
        "print(t)\n"
      ],
      "metadata": {
        "colab": {
          "base_uri": "https://localhost:8080/"
        },
        "id": "2otUTPpfyfZc",
        "outputId": "2fa8edea-4329-4ba1-cb75-8b731abae853"
      },
      "execution_count": 34,
      "outputs": [
        {
          "output_type": "stream",
          "name": "stdout",
          "text": [
            "(0, 15, 0, 25, 0)\n"
          ]
        }
      ]
    },
    {
      "cell_type": "markdown",
      "source": [
        "11. Escreva um código que permita alterar vários elementos de uma tupla: o programa deve pedir ao\n",
        "usuário a posição e o novo valor, repetidamente, até que ele digite \"fim\"."
      ],
      "metadata": {
        "id": "hb-NuEHj4GWv"
      }
    },
    {
      "cell_type": "code",
      "source": [
        "def alterar_elemento(tupla,posicao,novo_valor):\n",
        "  tupla=tupla[0:(posicao-1)]+(novo_valor,)+tupla[posicao:]\n",
        "  return tupla\n",
        "tupla=tuple()\n",
        "while True:\n",
        "  valor=input('digite a palavra que vai entrar(digite fim para parar):')\n",
        "  if valor=='fim':\n",
        "    break\n",
        "  posicao=int(input('digite a posição que você quer que seja modificada: '))\n",
        "  valor=valor.lower()\n",
        "  tupla=alterar_elemento(tupla,posicao,valor)\n",
        "\n",
        "print(tupla)\n"
      ],
      "metadata": {
        "colab": {
          "base_uri": "https://localhost:8080/"
        },
        "id": "rlNH-cjv4kTw",
        "outputId": "32818185-64a7-4ec1-bf05-37512607348d"
      },
      "execution_count": 37,
      "outputs": [
        {
          "output_type": "stream",
          "name": "stdout",
          "text": [
            "digite a palavra que vai entrar(digite fim para parar):morrer\n",
            "digite a posição que você quer que seja modificada: 1\n",
            "digite a palavra que vai entrar(digite fim para parar):casa\n",
            "digite a posição que você quer que seja modificada: 0\n",
            "digite a palavra que vai entrar(digite fim para parar):fim\n",
            "('casa', 'morrer')\n"
          ]
        }
      ]
    },
    {
      "cell_type": "markdown",
      "source": [
        "12. Dada a tupla t = ('a', 'b', 'c', 'd') , altere o terceiro elemento ( 'c' ) para 'z' ."
      ],
      "metadata": {
        "id": "vjFElrYf6qV1"
      }
    },
    {
      "cell_type": "code",
      "source": [
        "t = ('a', 'b', 'c', 'd')\n",
        "t= t[0:2] + ('z',) + t[3:]\n",
        "print(t)"
      ],
      "metadata": {
        "colab": {
          "base_uri": "https://localhost:8080/"
        },
        "id": "Ya47MOmF6riU",
        "outputId": "60dfa13c-6eb1-458c-8697-be092055f551"
      },
      "execution_count": 41,
      "outputs": [
        {
          "output_type": "stream",
          "name": "stdout",
          "text": [
            "('a', 'b', 'z', 'd')\n"
          ]
        }
      ]
    },
    {
      "cell_type": "markdown",
      "source": [
        "13. Dada uma tupla de números inteiros, escreva um código que gere uma nova tupla com todos os\n",
        "números negativos transformados em positivos."
      ],
      "metadata": {
        "id": "YNV8mATh73xF"
      }
    },
    {
      "cell_type": "code",
      "source": [
        "t=(10,20,40,30,90)\n",
        "nova_tupla= tuple()\n",
        "m=[]\n",
        "for i in t:\n",
        "  m.append(i-(i*2))\n",
        "posicao=0\n",
        "for i in m:\n",
        "  nova_tupla=nova_tupla[0:posicao] + (i,) + nova_tupla[(posicao+1):]\n",
        "  posicao+=1\n",
        "print(f'{t}\\n{nova_tupla}')\n"
      ],
      "metadata": {
        "colab": {
          "base_uri": "https://localhost:8080/"
        },
        "id": "AJZNceVd75CY",
        "outputId": "414e8887-3ff5-4e23-a8ea-1c26be3c1db4"
      },
      "execution_count": 44,
      "outputs": [
        {
          "output_type": "stream",
          "name": "stdout",
          "text": [
            "(10, 20, 40, 30, 90)\n",
            "(-10, -20, -40, -30, -90)\n"
          ]
        }
      ]
    },
    {
      "cell_type": "markdown",
      "source": [
        "14. Escreva uma função que receba uma tupla e substitua todos os elementos menores que 10 por\n",
        "10 ."
      ],
      "metadata": {
        "id": "ozxSf7uk-ysN"
      }
    },
    {
      "cell_type": "code",
      "source": [
        "t=(1,2,5,6,10,20,50)\n",
        "m=[]\n",
        "for i in t:\n",
        "  if i < 10:\n",
        "    m.append(10)\n",
        "  else:\n",
        "    m.append(i)\n",
        "posicao=0\n",
        "for i in m:\n",
        "  t= t[0:posicao] + (i,)+t[(posicao+1):]\n",
        "  posicao+=1\n",
        "print(t)\n"
      ],
      "metadata": {
        "colab": {
          "base_uri": "https://localhost:8080/"
        },
        "id": "J6mF-DR9_ZUe",
        "outputId": "0a8004b6-5be2-4b33-a63d-6f0d8814c39e"
      },
      "execution_count": 54,
      "outputs": [
        {
          "output_type": "stream",
          "name": "stdout",
          "text": [
            "(10, 10, 10, 10, 10, 20, 10)\n"
          ]
        }
      ]
    },
    {
      "cell_type": "code",
      "source": [],
      "metadata": {
        "id": "92Q88G5cG995"
      },
      "execution_count": null,
      "outputs": []
    },
    {
      "cell_type": "markdown",
      "source": [
        "15. Dada a tupla t = (5, 10, 15, 20, 25) , escreva um código que remova o elemento da posição\n",
        "2 (valor 15 )."
      ],
      "metadata": {
        "id": "kcPGb5sQAyZZ"
      }
    },
    {
      "cell_type": "code",
      "source": [
        "t = (5, 10, 15, 20, 25)\n",
        "t= t[0:2] + t[3:]\n",
        "print(t)"
      ],
      "metadata": {
        "colab": {
          "base_uri": "https://localhost:8080/"
        },
        "id": "R3IKtTVRBIpI",
        "outputId": "d1d773ec-19d4-4d14-8ceb-e110d7e86597"
      },
      "execution_count": 48,
      "outputs": [
        {
          "output_type": "stream",
          "name": "stdout",
          "text": [
            "(5, 10, 20, 25)\n"
          ]
        }
      ]
    },
    {
      "cell_type": "markdown",
      "source": [
        "1B. Crie uma função remover_elemento(tupla, posicao) que remova o elemento da posição\n",
        "informada e retorne a nova tupla."
      ],
      "metadata": {
        "id": "z9X6PS0pCEIr"
      }
    },
    {
      "cell_type": "code",
      "source": [
        "def remover_elemento(tupla,posicao):\n",
        "  tupla=tupla[0:posicao]+tupla[(posicao+1):]\n",
        "  return tupla\n",
        "t = (5, 10, 15, 20, 25)\n",
        "t= remover_elemento(t,4)\n",
        "print(t)"
      ],
      "metadata": {
        "colab": {
          "base_uri": "https://localhost:8080/"
        },
        "id": "XhWASt-3CI5Q",
        "outputId": "6b8629d7-2669-4b0b-b6f1-bbfbbd7404e5"
      },
      "execution_count": 50,
      "outputs": [
        {
          "output_type": "stream",
          "name": "stdout",
          "text": [
            "(5, 10, 15, 20)\n"
          ]
        }
      ]
    },
    {
      "cell_type": "markdown",
      "source": [
        "17. Dada uma tupla de strings, escreva um código que remova todas as strings que comecem com a\n",
        "letra \"A\" ."
      ],
      "metadata": {
        "id": "nehlSNJRC3yy"
      }
    },
    {
      "cell_type": "code",
      "source": [
        "t=('ana','raquel','joyce','andré','vitoria')\n",
        "t=list(t)\n",
        "for i in t:\n",
        "  if i[0]=='a':\n",
        "    t.remove(i)\n",
        "t=tuple(t)\n",
        "print(t)"
      ],
      "metadata": {
        "colab": {
          "base_uri": "https://localhost:8080/"
        },
        "id": "lkjXAeRDHAjL",
        "outputId": "756d47df-c13e-45e4-ea5a-431b4b7d092b"
      },
      "execution_count": 58,
      "outputs": [
        {
          "output_type": "stream",
          "name": "stdout",
          "text": [
            "('raquel', 'joyce', 'vitoria')\n"
          ]
        }
      ]
    },
    {
      "cell_type": "markdown",
      "source": [
        "1G. Dada uma tupla de números inteiros, remova todos os números ímpares, gerando uma nova tupla\n",
        "apenas com os pares."
      ],
      "metadata": {
        "id": "iUGw4IVOKnno"
      }
    },
    {
      "cell_type": "code",
      "source": [
        "numeros=(1,2,3,4,5,6,7,8,9,10)\n",
        "pares=[ numero for numero in numeros if numero%2==0]\n",
        "pares=tuple(pares)\n",
        "print(pares)"
      ],
      "metadata": {
        "colab": {
          "base_uri": "https://localhost:8080/"
        },
        "id": "SuJbOH9mKttv",
        "outputId": "3cdd32b2-e3a4-4ccf-b4b2-03b9ae168058"
      },
      "execution_count": 62,
      "outputs": [
        {
          "output_type": "stream",
          "name": "stdout",
          "text": [
            "(2, 4, 6, 8, 10)\n"
          ]
        }
      ]
    },
    {
      "cell_type": "markdown",
      "source": [
        "19. Escreva um programa que permita ao usuário criar uma tupla e depois remover elementos\n",
        "informando a posição, repetidamente, até que a tupla fique vazia."
      ],
      "metadata": {
        "id": "o6MHh9NGMdO4"
      }
    },
    {
      "cell_type": "code",
      "source": [
        "tupla=[]\n",
        "n_de_elementos=0\n",
        "while True:\n",
        "  n=input('digite a string que você quer na tupla(fim para acabar com o programa)')\n",
        "  if n.lower()=='fim':\n",
        "    break\n",
        "  else:\n",
        "    tupla.append(n)\n",
        "  n_de_elementos+=1\n",
        "print(tuple(tupla))\n",
        "while n_de_elementos>0:\n",
        "  indice=input('digite o indice do que você quer remover(digite fim e o programa termina ou exclua todos os item)')\n",
        "  if indice.lower()=='fim':\n",
        "    break\n",
        "  else:\n",
        "    indice=int(indice)\n",
        "    del tupla[indice]\n",
        "tupla=tuple(tupla)\n",
        "print(tupla)\n"
      ],
      "metadata": {
        "colab": {
          "base_uri": "https://localhost:8080/"
        },
        "id": "4chpXm-UMkNH",
        "outputId": "901d8075-f996-4dae-cf47-2543a27278e4"
      },
      "execution_count": 64,
      "outputs": [
        {
          "output_type": "stream",
          "name": "stdout",
          "text": [
            "digite a string que você quer na tupla(fim para acabar com o programa)casa\n",
            "digite a string que você quer na tupla(fim para acabar com o programa)carro\n",
            "digite a string que você quer na tupla(fim para acabar com o programa)c\n",
            "digite a string que você quer na tupla(fim para acabar com o programa)fim\n",
            "('casa', 'carro', 'c')\n",
            "digite o indice do que você quer remover(digite fim e o programa termina ou exclua todos os item)0\n",
            "digite o indice do que você quer remover(digite fim e o programa termina ou exclua todos os item)fim\n",
            "('carro', 'c')\n"
          ]
        }
      ]
    },
    {
      "cell_type": "markdown",
      "source": [],
      "metadata": {
        "id": "IHT4LqDERn57"
      }
    }
  ]
}